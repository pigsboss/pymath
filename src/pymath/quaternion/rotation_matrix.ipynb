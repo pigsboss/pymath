{
 "cells": [
  {
   "cell_type": "code",
   "execution_count": 6,
   "id": "9204b1f8-e52e-4b1a-9ddb-cc36604dac0c",
   "metadata": {},
   "outputs": [
    {
     "data": {
      "text/latex": [
       "$\\displaystyle \\left(\\frac{\\sqrt{2} \\sin{\\left(\\frac{\\phi}{2} + \\frac{\\pi}{4} \\right)} \\cos{\\left(\\frac{\\psi}{2} + \\frac{\\theta}{2} \\right)}}{2} + \\frac{\\sqrt{2} \\cos{\\left(\\frac{\\phi}{2} + \\frac{\\pi}{4} \\right)} \\cos{\\left(\\frac{\\psi}{2} - \\frac{\\theta}{2} \\right)}}{2}\\right) + \\left(\\frac{\\sqrt{2} \\sin{\\left(\\frac{\\psi}{2} + \\frac{\\pi}{4} \\right)} \\cos{\\left(\\frac{\\phi}{2} - \\frac{\\theta}{2} \\right)}}{2} - \\frac{\\sqrt{2} \\sin{\\left(\\frac{\\phi}{2} - \\frac{\\psi}{2} + \\frac{\\theta}{2} + \\frac{\\pi}{4} \\right)}}{4} - \\frac{\\sqrt{2} \\cos{\\left(\\frac{\\phi}{2} + \\frac{\\psi}{2} + \\frac{\\theta}{2} + \\frac{\\pi}{4} \\right)}}{4}\\right) i + \\left(\\frac{\\sqrt{2} \\sin{\\left(\\frac{\\phi}{2} + \\frac{\\pi}{4} \\right)} \\sin{\\left(\\frac{\\psi}{2} - \\frac{\\theta}{2} \\right)}}{2} - \\frac{\\sqrt{2} \\sin{\\left(\\frac{\\psi}{2} + \\frac{\\theta}{2} \\right)} \\cos{\\left(\\frac{\\phi}{2} + \\frac{\\pi}{4} \\right)}}{2}\\right) j + \\left(\\frac{\\sqrt{2} \\sin{\\left(\\frac{\\phi}{2} + \\frac{\\pi}{4} \\right)} \\cos{\\left(\\frac{\\psi}{2} - \\frac{\\theta}{2} \\right)}}{2} - \\frac{\\sqrt{2} \\sin{\\left(- \\frac{\\phi}{2} + \\frac{\\psi}{2} + \\frac{\\theta}{2} + \\frac{\\pi}{4} \\right)}}{4} - \\frac{\\sqrt{2} \\cos{\\left(\\frac{\\phi}{2} + \\frac{\\psi}{2} + \\frac{\\theta}{2} + \\frac{\\pi}{4} \\right)}}{4}\\right) k$"
      ],
      "text/plain": [
       "(sqrt(2)*sin(phi/2 + pi/4)*cos(psi/2 + theta/2)/2 + sqrt(2)*cos(phi/2 + pi/4)*cos(psi/2 - theta/2)/2) + (sqrt(2)*sin(psi/2 + pi/4)*cos(phi/2 - theta/2)/2 - sqrt(2)*sin(phi/2 - psi/2 + theta/2 + pi/4)/4 - sqrt(2)*cos(phi/2 + psi/2 + theta/2 + pi/4)/4)*i + (sqrt(2)*sin(phi/2 + pi/4)*sin(psi/2 - theta/2)/2 - sqrt(2)*sin(psi/2 + theta/2)*cos(phi/2 + pi/4)/2)*j + (sqrt(2)*sin(phi/2 + pi/4)*cos(psi/2 - theta/2)/2 - sqrt(2)*sin(-phi/2 + psi/2 + theta/2 + pi/4)/4 - sqrt(2)*cos(phi/2 + psi/2 + theta/2 + pi/4)/4)*k"
      ]
     },
     "execution_count": 6,
     "metadata": {},
     "output_type": "execute_result"
    }
   ],
   "source": [
    "from sympy import *\n",
    "phi, theta, psi=symbols('phi,theta,psi',real=True)\n",
    "x=Quaternion(0,1,0,0)\n",
    "y=Quaternion(0,0,1,0)\n",
    "z=Quaternion(0,0,0,1)\n",
    "qz=Quaternion(cos(phi/2),0,0,sin(phi/2))\n",
    "X=qz.mul(x.mul(qz.inverse()))\n",
    "Y=qz.mul(y.mul(qz.inverse()))\n",
    "qY=Quaternion(cos(theta/2),sin(-theta/2)*Y.b,sin(-theta/2)*Y.c,sin(-theta/2)*Y.d)\n",
    "X=qY.mul(X.mul(qY.inverse()))\n",
    "qX=Quaternion(cos(psi/2),sin(psi/2)*X.b,sin(psi/2)*X.c,sin(psi/2)*X.d)\n",
    "q=trigsimp(qX.mul(qY.mul(qz)),method='fu')\n",
    "q"
   ]
  },
  {
   "cell_type": "code",
   "execution_count": 12,
   "id": "99511362-5e5c-4093-851b-a1bd2c0579ae",
   "metadata": {},
   "outputs": [
    {
     "data": {
      "text/latex": [
       "$\\displaystyle \\left[\\begin{matrix}\\cos{\\left(\\phi \\right)} \\cos{\\left(\\theta \\right)} & - \\sin{\\left(\\phi \\right)} \\cos{\\left(\\psi \\right)} - \\sin{\\left(\\psi \\right)} \\sin{\\left(\\theta \\right)} \\cos{\\left(\\phi \\right)} & \\sin{\\left(\\phi \\right)} \\sin{\\left(\\psi \\right)} - \\sin{\\left(\\theta \\right)} \\cos{\\left(\\phi \\right)} \\cos{\\left(\\psi \\right)}\\\\\\sin{\\left(\\phi \\right)} \\cos{\\left(\\theta \\right)} & - \\sin{\\left(\\phi \\right)} \\sin{\\left(\\psi \\right)} \\sin{\\left(\\theta \\right)} + \\cos{\\left(\\phi \\right)} \\cos{\\left(\\psi \\right)} & - \\sin{\\left(\\phi \\right)} \\sin{\\left(\\theta \\right)} \\cos{\\left(\\psi \\right)} - \\sin{\\left(\\psi \\right)} \\cos{\\left(\\phi \\right)}\\\\\\sin{\\left(\\theta \\right)} & \\sin{\\left(\\psi \\right)} \\cos{\\left(\\theta \\right)} & \\cos{\\left(\\psi \\right)} \\cos{\\left(\\theta \\right)}\\end{matrix}\\right]$"
      ],
      "text/plain": [
       "Matrix([\n",
       "[cos(phi)*cos(theta), -sin(phi)*cos(psi) - sin(psi)*sin(theta)*cos(phi),  sin(phi)*sin(psi) - sin(theta)*cos(phi)*cos(psi)],\n",
       "[sin(phi)*cos(theta), -sin(phi)*sin(psi)*sin(theta) + cos(phi)*cos(psi), -sin(phi)*sin(theta)*cos(psi) - sin(psi)*cos(phi)],\n",
       "[         sin(theta),                               sin(psi)*cos(theta),                               cos(psi)*cos(theta)]])"
      ]
     },
     "execution_count": 12,
     "metadata": {},
     "output_type": "execute_result"
    }
   ],
   "source": [
    "R=trigsimp(expand_trig(trigsimp(expand_trig(q.to_rotation_matrix()),method='fu')),method='fu')\n",
    "R"
   ]
  },
  {
   "cell_type": "code",
   "execution_count": 14,
   "id": "cdd54bc4-593f-4505-bb9f-efb24250a32f",
   "metadata": {},
   "outputs": [
    {
     "data": {
      "text/latex": [
       "$\\displaystyle \\left[\\begin{matrix}\\cos{\\left(\\phi \\right)} \\cos{\\left(\\theta \\right)} & \\sin{\\left(\\phi \\right)} \\cos{\\left(\\theta \\right)} & \\sin{\\left(\\theta \\right)}\\\\- \\sin{\\left(\\phi \\right)} & \\cos{\\left(\\phi \\right)} & 0\\\\- \\sin{\\left(\\theta \\right)} \\cos{\\left(\\phi \\right)} & - \\sin{\\left(\\phi \\right)} \\sin{\\left(\\theta \\right)} & \\cos{\\left(\\theta \\right)}\\end{matrix}\\right]$"
      ],
      "text/plain": [
       "Matrix([\n",
       "[ cos(phi)*cos(theta),  sin(phi)*cos(theta), sin(theta)],\n",
       "[           -sin(phi),             cos(phi),          0],\n",
       "[-sin(theta)*cos(phi), -sin(phi)*sin(theta), cos(theta)]])"
      ]
     },
     "execution_count": 14,
     "metadata": {},
     "output_type": "execute_result"
    }
   ],
   "source": [
    "trigsimp(expand_trig(trigsimp(expand_trig(q.inverse().to_rotation_matrix()), method='fu').subs(psi,0)),method='fu')"
   ]
  },
  {
   "cell_type": "code",
   "execution_count": 16,
   "id": "81fb2d72-8ecf-471d-a93d-b38cb0255a26",
   "metadata": {},
   "outputs": [
    {
     "data": {
      "text/plain": [
       "16777216"
      ]
     },
     "execution_count": 16,
     "metadata": {},
     "output_type": "execute_result"
    }
   ],
   "source": [
    "2**24"
   ]
  },
  {
   "cell_type": "code",
   "execution_count": null,
   "id": "79b2f01e-e892-4555-bbf0-e588d177c176",
   "metadata": {},
   "outputs": [],
   "source": []
  }
 ],
 "metadata": {
  "kernelspec": {
   "display_name": "Python 3 (ipykernel)",
   "language": "python",
   "name": "python3"
  },
  "language_info": {
   "codemirror_mode": {
    "name": "ipython",
    "version": 3
   },
   "file_extension": ".py",
   "mimetype": "text/x-python",
   "name": "python",
   "nbconvert_exporter": "python",
   "pygments_lexer": "ipython3",
   "version": "3.7.9"
  }
 },
 "nbformat": 4,
 "nbformat_minor": 5
}
